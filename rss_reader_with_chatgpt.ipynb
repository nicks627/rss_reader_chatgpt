{
  "nbformat": 4,
  "nbformat_minor": 0,
  "metadata": {
    "colab": {
      "provenance": [],
      "authorship_tag": "ABX9TyOPz0V/Fb2pzz/P8ntsIsBt",
      "include_colab_link": true
    },
    "kernelspec": {
      "name": "python3",
      "display_name": "Python 3"
    },
    "language_info": {
      "name": "python"
    }
  },
  "cells": [
    {
      "cell_type": "markdown",
      "metadata": {
        "id": "view-in-github",
        "colab_type": "text"
      },
      "source": [
        "<a href=\"https://colab.research.google.com/github/nicks627/rss_reader_chatgpt/blob/main/rss_reader_with_chatgpt.ipynb\" target=\"_parent\"><img src=\"https://colab.research.google.com/assets/colab-badge.svg\" alt=\"Open In Colab\"/></a>"
      ]
    },
    {
      "cell_type": "code",
      "execution_count": 1,
      "metadata": {
        "colab": {
          "base_uri": "https://localhost:8080/"
        },
        "id": "osE1izEgVKDm",
        "outputId": "04735d9d-b25d-4b25-8ed4-410aee2d78af"
      },
      "outputs": [
        {
          "output_type": "stream",
          "name": "stdout",
          "text": [
            "Looking in indexes: https://pypi.org/simple, https://us-python.pkg.dev/colab-wheels/public/simple/\n",
            "Collecting feedparser\n",
            "  Downloading feedparser-6.0.10-py3-none-any.whl (81 kB)\n",
            "\u001b[2K     \u001b[90m━━━━━━━━━━━━━━━━━━━━━━━━━━━━━━━━━━━━━━━━\u001b[0m \u001b[32m81.1/81.1 KB\u001b[0m \u001b[31m3.9 MB/s\u001b[0m eta \u001b[36m0:00:00\u001b[0m\n",
            "\u001b[?25hCollecting sgmllib3k\n",
            "  Downloading sgmllib3k-1.0.0.tar.gz (5.8 kB)\n",
            "  Preparing metadata (setup.py) ... \u001b[?25l\u001b[?25hdone\n",
            "Building wheels for collected packages: sgmllib3k\n",
            "  Building wheel for sgmllib3k (setup.py) ... \u001b[?25l\u001b[?25hdone\n",
            "  Created wheel for sgmllib3k: filename=sgmllib3k-1.0.0-py3-none-any.whl size=6066 sha256=e887fbcea54240d2c08d83e1168c1b908312b07e78e9b712b3f7f670351d6a0c\n",
            "  Stored in directory: /root/.cache/pip/wheels/83/63/2f/117884c3b19d46b64d3d61690333aa80c88dc14050e269c546\n",
            "Successfully built sgmllib3k\n",
            "Installing collected packages: sgmllib3k, feedparser\n",
            "Successfully installed feedparser-6.0.10 sgmllib3k-1.0.0\n"
          ]
        }
      ],
      "source": [
        "!pip install feedparser"
      ]
    },
    {
      "cell_type": "markdown",
      "source": [
        "##IT関連のRSSサイト  \n",
        "\n",
        "\n",
        "*   http://b.hatena.ne.jp/hotentry/it.rss\n",
        "*   http://feed.rssad.jp/rss/gigazine/rss_2.0\n",
        "*   http://jp.techcrunch.com/feed/\n",
        "*   http://feed.japan.cnet.com/rss/index.rdf\n",
        "*   http://rss.itmedia.co.jp/rss/1.0/topstory.xml\n",
        "*    http://getnews.jp/feed\n",
        "*   http://feed.japan.zdnet.com/rss/index.rdf\n",
        "\n",
        "\n",
        "\n",
        "\n",
        "\n",
        "\n"
      ],
      "metadata": {
        "id": "cMiszID6XH3k"
      }
    },
    {
      "cell_type": "code",
      "source": [
        "import feedparser\n",
        "\n",
        "\n",
        "# feed = feedparser.parse('https://rss.itmedia.co.jp/rss/2.0/itmedia_all.xml')\n",
        "feed = feedparser.parse(\"http://b.hatena.ne.jp/hotentry/it.rss\")\n",
        "for entry in feed.entries:\n",
        "    print('タイトル:', entry.title)\n",
        "    print('URL:', entry.link)"
      ],
      "metadata": {
        "colab": {
          "base_uri": "https://localhost:8080/"
        },
        "id": "Nhzgq7iiV8T-",
        "outputId": "782e9834-9b7c-4010-c681-623c213c8336"
      },
      "execution_count": 9,
      "outputs": [
        {
          "output_type": "stream",
          "name": "stdout",
          "text": [
            "タイトル: やはりお前らの「公開鍵暗号」はまちがっている。\n",
            "URL: https://zenn.dev/tetsu1008/articles/1e3673ca1ece42\n",
            "タイトル: はてなブックマークアプリに「アクティビティ」機能を追加しました - はてなブックマーク開発ブログ\n",
            "URL: https://bookmark.hatenastaff.com/entry/bookmark-activity\n",
            "タイトル: 「オレオレ詐欺」にAI製クローン音声を用いる事例が急増、被害額は年間15億円近くに\n",
            "URL: https://gigazine.net/news/20230306-phone-scam-ai-voice/\n",
            "タイトル: バックエンドエンジニアのための「React の仕組み」の理解方法 - めもめも\n",
            "URL: https://enakai00.hatenablog.com/entry/2023/03/05/142727\n",
            "タイトル: データベースの仕組み(アーキテクチャ)をざっくり理解する\n",
            "URL: https://zenn.dev/revenuehack/articles/dc5a901fbe90e6\n",
            "タイトル: note、ついにインポート/エクスポートに対応\n",
            "URL: https://www.watch.impress.co.jp/docs/news/1483560.html\n",
            "タイトル: スーパーファミコンカセットの内部基板を見せて販売する残念な理由\n",
            "URL: https://akiba-pc.watch.impress.co.jp/docs/news/news/1483335.html\n",
            "タイトル: ChatGPT Bing AIチャット活用例まとめ\n",
            "URL: https://zenn.dev/karaage0703/articles/718506a593fef0\n",
            "タイトル: 英語は10000時間でモノになる　～ハードワークで挫折しない「日本語断ち」の実践法～\n",
            "URL: https://gihyo.jp/book/2023/978-4-297-13352-8\n",
            "タイトル: 私がインフラ運用保守で意識して行っていること(コラム) - Qiita\n",
            "URL: https://qiita.com/ponponpoko/items/26293814fa5bcaceedd4\n",
            "タイトル: PC買い替え失敗!? Core i9-12900HがRyzen9 5900HXにやられた話【藤本健のDigital Audio Laboratory】\n",
            "URL: https://av.watch.impress.co.jp/docs/series/dal/1483389.html\n",
            "タイトル: TwitterがAWSの支払いを長期間拒否したためTwitterへの広告費を差し控えるとAmazonから脅される羽目に、さらにTwitter自体は売上高と収益が40％減と報じられる\n",
            "URL: https://gigazine.net/news/20230306-twitter-delay-aws/\n",
            "タイトル: 鐘の音（除夜の鐘）ダイエット中−30kg on Twitter: \"海外アーティストが、日本のイラストやアニメに対してデータ資源を持ってるのに海外AI企業に大量に食われて一円も還元されていない状況を「デジタル植民地」と言ってるの、言葉はきっついが、確かにその通りなんだよな。\"\n",
            "URL: https://twitter.com/kanenooto7248/status/1632321270007369729\n",
            "タイトル: Tailwind.cssとAlpine.jsで作られた161ものUIやレイアウトを無償公開している・「Windstatic」\n",
            "URL: http://kachibito.net/useful-resource/windstatic\n",
            "タイトル: 分散できないのはどう考えても僕たちが悪い - 点と接線。\n",
            "URL: https://riq0h.jp/2023/03/05/102540/\n",
            "タイトル: dTVは「Lemino」へ　広告付き無料配信も開始\n",
            "URL: https://www.itmedia.co.jp/news/articles/2303/06/news127.html\n",
            "タイトル: 3年4カ月ぶりに自作キーボードマニアが250人集まる！　『天下一キーボードわいわい会』開催！\n",
            "URL: https://dig-it.media/thundervolt/article/783261/\n",
            "タイトル: 【西川善司のグラフィックスMANIAC】 ためになる3Dグラフィックスの歴史(3)。テクスチャフィルタリング技術最適化の乱\n",
            "URL: https://pc.watch.impress.co.jp/docs/column/zenji/1483093.html\n",
            "タイトル: [FT]米アマゾン、しぼむ「アレクサ」の壮大な夢（写真=ロイター） - 日本経済新聞\n",
            "URL: https://www.nikkei.com/article/DGXZQOCB065B90W3A300C2000000/\n",
            "タイトル: Bing Chat の感情分析があまりにも凄いので驚いた・『池上線』 西島三重子 - しろっこブログ\n",
            "URL: https://sirocco.hatenablog.com/entry/I-was-surprised-because-Bing-Chats-sentiment-analysis-is-so-amazing\n",
            "タイトル: 商用利用可能なChilloutMixのジェネリックAIモデルの紹介と作り方を解説｜AI天使 / AI Angel.｜pixivFANBOX\n",
            "URL: https://ai-angel.fanbox.cc/posts/5432170\n",
            "タイトル: ChatGPT APIを使って出力を得る方法\n",
            "URL: https://zenn.dev/erukiti/articles/chatgpt-output\n",
            "タイトル: やってよかったbuild own x系(自作OSとか自作DBみたいな自作～)を紹介してみる\n",
            "URL: https://zenn.dev/cube/articles/a6f88a9fbbe989\n",
            "タイトル: GitHub Projects勉強会を開催しました - ROUTE06 Tech Blog\n",
            "URL: https://tech.route06.co.jp/entry/2023/03/06/140302\n",
            "タイトル: AIでビデオを鮮明に ～「Micorosoft Edge」に「超解像度ビデオ」機能が導入へ／Canaryチャネルの半数に提供中\n",
            "URL: https://forest.watch.impress.co.jp/docs/news/1483594.html\n",
            "タイトル: Rails: SidekiqはActive Jobを経由せずに直接使おう（翻訳）｜TechRacho by BPS株式会社\n",
            "URL: https://techracho.bpsinc.jp/hachi8833/2023_03_06/127675\n",
            "タイトル: “1つの独立して動く要素”の内部を整理し直す　「改めて整理するアプリケーション設計の基本」で伝えたいこと\n",
            "URL: https://logmi.jp/tech/articles/328318\n",
            "タイトル: 自社OCRエンジン「NineOCR」の学習効率化のため SageMaker Training を導入した話 - Sansan Tech Blog\n",
            "URL: https://buildersbox.corp-sansan.com/entry/2023/03/06/110000\n",
            "タイトル: 正規表現でのURLのチェックとバイパス | 調査研究/ブログ | 三井物産セキュアディレクション株式会社\n",
            "URL: https://www.mbsd.jp/research/20230210/regex-url/\n",
            "タイトル: Obsidian使い始めました - 駄文日記 2nd side\n",
            "URL: https://deflis.hatenablog.com/entry/2023/03/05/210020\n"
          ]
        }
      ]
    },
    {
      "cell_type": "code",
      "source": [],
      "metadata": {
        "id": "sHq7hbSzWKD-"
      },
      "execution_count": null,
      "outputs": []
    }
  ]
}